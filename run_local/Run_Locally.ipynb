{
 "cells": [
  {
   "cell_type": "markdown",
   "metadata": {},
   "source": [
    "# Load Data"
   ]
  },
  {
   "cell_type": "code",
   "execution_count": 76,
   "metadata": {},
   "outputs": [
    {
     "name": "stdout",
     "output_type": "stream",
     "text": [
      "The time to load the train data is equal to: 0.6189999580383301 seconds\n",
      "The time to load the predict data is equal to: 0.37000370025634766 seconds\n",
      "The time to load all the data is equal to: 0.9890036582946777 seconds\n"
     ]
    }
   ],
   "source": [
    "import time\n",
    "import json\n",
    "import pandas as pd\n",
    "import os\n",
    "time_1 = time.time()\n",
    "with open(\"../test_resourses/training-db/train_data.json\") as file_train:\n",
    "    train_data = json.load(file_train)\n",
    "    train_data = pd.DataFrame.from_dict(train_data)\n",
    "    \n",
    "time_load_train = time.time() - time_1\n",
    "print(\"The time to load the train data is equal to: {} seconds\".format(time_load_train))\n",
    "\n",
    "time_2 = time.time()\n",
    "with open(\"../test_resourses/training-db/predict_data.json\") as file_predict:\n",
    "    predict_data = json.load(file_predict)\n",
    "    predict_data = pd.DataFrame.from_dict(predict_data)\n",
    "time_load_predict = time.time() - time_2\n",
    "print(\"The time to load the predict data is equal to: {} seconds\".format(time_load_predict))\n",
    "print(\"The time to load all the data is equal to: {} seconds\".format(time_load_train + time_load_predict))   "
   ]
  },
  {
   "cell_type": "markdown",
   "metadata": {},
   "source": [
    "# Train Model"
   ]
  },
  {
   "cell_type": "code",
   "execution_count": 63,
   "metadata": {},
   "outputs": [
    {
     "name": "stderr",
     "output_type": "stream",
     "text": [
      "<ipython-input-63-7f6a4350551a>:15: SettingWithCopyWarning: \n",
      "A value is trying to be set on a copy of a slice from a DataFrame.\n",
      "Try using .loc[row_indexer,col_indexer] = value instead\n",
      "\n",
      "See the caveats in the documentation: https://pandas.pydata.org/pandas-docs/stable/user_guide/indexing.html#returning-a-view-versus-a-copy\n",
      "  X['settings_clusters'] = kmeans.predict(X_cluster)\n",
      "<ipython-input-63-7f6a4350551a>:20: SettingWithCopyWarning: \n",
      "A value is trying to be set on a copy of a slice from a DataFrame.\n",
      "Try using .loc[row_indexer,col_indexer] = value instead\n",
      "\n",
      "See the caveats in the documentation: https://pandas.pydata.org/pandas-docs/stable/user_guide/indexing.html#returning-a-view-versus-a-copy\n",
      "  X['max_' + feature] = dataset.groupby('engine_id')[feature].cummax()\n"
     ]
    },
    {
     "name": "stdout",
     "output_type": "stream",
     "text": [
      "R2: 0.9986819401295985\n",
      "The total time elapsed to train the model is: 170.2638931274414 seconds\n"
     ]
    }
   ],
   "source": [
    "from sklearn import ensemble\n",
    "from sklearn.cluster import KMeans\n",
    "from matplotlib import pyplot as plt\n",
    "import pickle\n",
    "\n",
    "def train(dataset): \n",
    "    X = dataset[dataset.columns[3:]]\n",
    "    Y = dataset[dataset.columns[2]]\n",
    "    \n",
    "    #Clustering the data\n",
    "    X_cluster = X[['setting1', 'setting2', 'setting3']]\n",
    "\n",
    "    #creates the clusters\n",
    "    kmeans = KMeans(n_clusters=3).fit(X_cluster)\n",
    "    X['settings_clusters'] = kmeans.predict(X_cluster)\n",
    "    \n",
    "    features = dataset.columns[3:]\n",
    "    for feature in features:\n",
    "        #Creating min, max and delta variables\n",
    "        X['max_' + feature] = dataset.groupby('engine_id')[feature].cummax()\n",
    "        X['min_' + feature] = dataset.groupby('engine_id')[feature].cummin()\n",
    "\n",
    "        X['delta_' + feature] = dataset.groupby('engine_id')[feature].diff()\n",
    "        X['delta_' + feature].fillna(0, inplace=True)\n",
    "    \n",
    "    ###Used parameters\n",
    "    params = {'n_estimators': 400, 'max_depth': 5, 'learning_rate': 0.25}\n",
    "    \n",
    "    model = ensemble.GradientBoostingRegressor(**params)\n",
    "    model.fit(X, Y)\n",
    "    ###Save the Model\n",
    "    model_repo = os.getcwd()\n",
    "    if model_repo:\n",
    "        file_path = os.path.join(model_repo, \"model.pkl\")\n",
    "        pickle.dump(model, open(file_path, 'wb'))\n",
    "    else:\n",
    "        pickle.dump(model, open('model.pkl', 'wb'))\n",
    "    \n",
    "    print(\"R2: {}\".format(model.score(X,Y)))\n",
    "    \n",
    "time_start = time.time()\n",
    "train(train_data)\n",
    "print(\"The total time elapsed to train the model is: {} seconds\".format(time.time() - time_start))"
   ]
  },
  {
   "cell_type": "markdown",
   "metadata": {},
   "source": [
    "# Predict RUL"
   ]
  },
  {
   "cell_type": "code",
   "execution_count": 77,
   "metadata": {},
   "outputs": [
    {
     "name": "stderr",
     "output_type": "stream",
     "text": [
      "<ipython-input-77-eda565a32948>:12: SettingWithCopyWarning: \n",
      "A value is trying to be set on a copy of a slice from a DataFrame.\n",
      "Try using .loc[row_indexer,col_indexer] = value instead\n",
      "\n",
      "See the caveats in the documentation: https://pandas.pydata.org/pandas-docs/stable/user_guide/indexing.html#returning-a-view-versus-a-copy\n",
      "  X['settings_clusters'] = kmeans.predict(X_cluster)\n"
     ]
    },
    {
     "name": "stdout",
     "output_type": "stream",
     "text": [
      "Some examples of the RUL values are: [228.21881147 199.40067616 195.5864229  193.72508742 189.15052219]\n",
      "The total time elapsed is 2.7740068435668945 seconds\n"
     ]
    }
   ],
   "source": [
    "import copy\n",
    "def feature_engineer(dataset):\n",
    "    X = dataset[dataset.columns[2:]]\n",
    "    engine = dataset[dataset.columns[0]].to_list()\n",
    "    cycle = dataset[dataset.columns[1]].to_list()\n",
    "    \n",
    "    #Clustering the data\n",
    "    X_cluster = X[['setting1', 'setting2', 'setting3']]\n",
    "\n",
    "    #creates the clusters\n",
    "    kmeans = KMeans(n_clusters=3).fit(X_cluster)\n",
    "    X['settings_clusters'] = kmeans.predict(X_cluster)\n",
    "    \n",
    "    features = dataset.columns[2:]\n",
    "    for feature in features:\n",
    "        #Creating min, max and delta variables\n",
    "        X['max_' + feature] = dataset.groupby('engine_id')[feature].cummax()\n",
    "        X['min_' + feature] = dataset.groupby('engine_id')[feature].cummin()\n",
    "\n",
    "        X['delta_' + feature] = dataset.groupby('engine_id')[feature].diff()\n",
    "        X['delta_' + feature].fillna(0, inplace=True)\n",
    "\n",
    "    X.insert(0, 'engine_id', engine)\n",
    "    X.insert(1, 'cycle', cycle)\n",
    "    return X\n",
    "\n",
    "# make prediction\n",
    "def predict(dataset):\n",
    "    model_repo = os.getcwd()\n",
    "    file_path = os.path.join(model_repo, \"model.pkl\")\n",
    "    model = pickle.load(open(file_path, 'rb'))\n",
    "    val_set2 = dataset.copy()\n",
    "    features = dataset[dataset.columns[2:]]\n",
    "    result = model.predict(features)\n",
    "    val_set2['RUL'] = result.tolist()\n",
    "    dic = val_set2.to_dict(orient='records')\n",
    "    print(\"Some examples of the RUL values are: {}\".format(result[:5]))\n",
    "\n",
    "time_start = time.time()\n",
    "predict_data = feature_engineer(predict_data)\n",
    "predict(predict_data)\n",
    "print(\"The total time elapsed is {} seconds\".format(time.time() - time_start))"
   ]
  }
 ],
 "metadata": {
  "kernelspec": {
   "display_name": "Python 3",
   "language": "python",
   "name": "python3"
  },
  "language_info": {
   "codemirror_mode": {
    "name": "ipython",
    "version": 3
   },
   "file_extension": ".py",
   "mimetype": "text/x-python",
   "name": "python",
   "nbconvert_exporter": "python",
   "pygments_lexer": "ipython3",
   "version": "3.8.3"
  }
 },
 "nbformat": 4,
 "nbformat_minor": 4
}
